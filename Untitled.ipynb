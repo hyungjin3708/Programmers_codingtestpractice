{
 "cells": [
  {
   "cell_type": "code",
   "execution_count": 4,
   "id": "17be8c0b-c48a-4b64-b89f-026fde443687",
   "metadata": {},
   "outputs": [],
   "source": [
    "from string import ascii_uppercase\n",
    "import pandas as pd\n",
    "alphabet_list = list(ascii_uppercase)"
   ]
  },
  {
   "cell_type": "code",
   "execution_count": 5,
   "id": "05a86f2e-8b64-4883-81c9-368c45cc6121",
   "metadata": {
    "tags": []
   },
   "outputs": [
    {
     "data": {
      "text/plain": [
       "['A',\n",
       " 'B',\n",
       " 'C',\n",
       " 'D',\n",
       " 'E',\n",
       " 'F',\n",
       " 'G',\n",
       " 'H',\n",
       " 'I',\n",
       " 'J',\n",
       " 'K',\n",
       " 'L',\n",
       " 'M',\n",
       " 'N',\n",
       " 'O',\n",
       " 'P',\n",
       " 'Q',\n",
       " 'R',\n",
       " 'S',\n",
       " 'T',\n",
       " 'U',\n",
       " 'V',\n",
       " 'W',\n",
       " 'X',\n",
       " 'Y',\n",
       " 'Z']"
      ]
     },
     "execution_count": 5,
     "metadata": {},
     "output_type": "execute_result"
    }
   ],
   "source": [
    "alphabet_list"
   ]
  },
  {
   "cell_type": "code",
   "execution_count": 15,
   "id": "fa17de0f-9aff-41f8-886e-1fc66d0ed32c",
   "metadata": {},
   "outputs": [],
   "source": [
    "test = alphabet_list[:11]"
   ]
  },
  {
   "cell_type": "code",
   "execution_count": 20,
   "id": "c7cd3e16-a038-447b-ada4-d21e84900a8f",
   "metadata": {
    "tags": []
   },
   "outputs": [
    {
     "data": {
      "text/plain": [
       "['A', 'B', 'C', 'D', 'E', 'F', 'G', 'H', 'I', 'J', 'K', 'L', 'M']"
      ]
     },
     "execution_count": 20,
     "metadata": {},
     "output_type": "execute_result"
    }
   ],
   "source": [
    "alphabet_list[:13]"
   ]
  },
  {
   "cell_type": "code",
   "execution_count": 23,
   "id": "3674c6fa-7c63-4b3e-937b-3cee7acf9597",
   "metadata": {},
   "outputs": [
    {
     "data": {
      "text/plain": [
       "'N'"
      ]
     },
     "execution_count": 23,
     "metadata": {},
     "output_type": "execute_result"
    }
   ],
   "source": [
    "alphabet_list[13]"
   ]
  },
  {
   "cell_type": "code",
   "execution_count": 36,
   "id": "3f438b5e-da7f-4c99-86a5-99f6b4c7747a",
   "metadata": {},
   "outputs": [
    {
     "data": {
      "text/plain": [
       "0"
      ]
     },
     "execution_count": 36,
     "metadata": {},
     "output_type": "execute_result"
    }
   ],
   "source": [
    "ord(\"A\".lower()) - 97"
   ]
  },
  {
   "cell_type": "code",
   "execution_count": 28,
   "id": "fb598d40-49c0-4554-8105-09b4636d4cc6",
   "metadata": {},
   "outputs": [
    {
     "ename": "SyntaxError",
     "evalue": "invalid syntax (Temp/ipykernel_14604/935409654.py, line 1)",
     "output_type": "error",
     "traceback": [
      "\u001b[1;36m  File \u001b[1;32m\"C:\\Users\\hyung\\AppData\\Local\\Temp/ipykernel_14604/935409654.py\"\u001b[1;36m, line \u001b[1;32m1\u001b[0m\n\u001b[1;33m    \"EM\"D\"\u001b[0m\n\u001b[1;37m        ^\u001b[0m\n\u001b[1;31mSyntaxError\u001b[0m\u001b[1;31m:\u001b[0m invalid syntax\n"
     ]
    }
   ],
   "source": [
    "\"EM\"D\""
   ]
  },
  {
   "cell_type": "code",
   "execution_count": 17,
   "id": "a204fc56-6e3f-4847-90a2-1014c9588972",
   "metadata": {},
   "outputs": [
    {
     "data": {
      "text/plain": [
       "'F'"
      ]
     },
     "execution_count": 17,
     "metadata": {},
     "output_type": "execute_result"
    }
   ],
   "source": [
    "test[5]"
   ]
  },
  {
   "cell_type": "code",
   "execution_count": 12,
   "id": "551724ce-bc31-4f0e-ab04-aa153c2d725a",
   "metadata": {},
   "outputs": [
    {
     "data": {
      "text/plain": [
       "2"
      ]
     },
     "execution_count": 12,
     "metadata": {},
     "output_type": "execute_result"
    }
   ],
   "source": [
    "alphabet_list.index(\"C\")"
   ]
  },
  {
   "cell_type": "code",
   "execution_count": 9,
   "id": "dbf86575-a01b-4096-a2b1-a14b6559c60a",
   "metadata": {},
   "outputs": [],
   "source": [
    "name = \"JAMES\""
   ]
  },
  {
   "cell_type": "code",
   "execution_count": 8,
   "id": "3454a7af-2291-4e3f-81e9-6d23d855f888",
   "metadata": {
    "collapsed": true,
    "jupyter": {
     "outputs_hidden": true
    },
    "tags": []
   },
   "outputs": [
    {
     "name": "stdout",
     "output_type": "stream",
     "text": [
      "j\n",
      "a\n",
      "m\n",
      "e\n",
      "s\n"
     ]
    }
   ],
   "source": [
    "count = 0\n",
    "for n in name:\n",
    "    if n == A:\n",
    "        pass\n",
    "    elif n <= \"N\":\n",
    "        count += ord(n.lower()) - 97\n",
    "    elif n > \"N\":\n",
    "        count += len(name) - (ord(n.lower()) - 96)\n",
    "    print(n)"
   ]
  },
  {
   "cell_type": "code",
   "execution_count": 37,
   "id": "d18181be-8611-47bd-8fed-a7baa18d88a0",
   "metadata": {},
   "outputs": [],
   "source": [
    "num_char = [i for i in range(14)] + [j for j in range(12, 0, -1)]"
   ]
  },
  {
   "cell_type": "code",
   "execution_count": 39,
   "id": "95df2bad-9a95-4252-850b-f6127a65663a",
   "metadata": {},
   "outputs": [
    {
     "data": {
      "text/plain": [
       "[0, 1, 2, 3, 4, 5, 6, 7, 8, 9, 10, 11, 12, 13]"
      ]
     },
     "execution_count": 39,
     "metadata": {},
     "output_type": "execute_result"
    }
   ],
   "source": [
    "[i for i in range(14)]"
   ]
  },
  {
   "cell_type": "code",
   "execution_count": 40,
   "id": "57f4a28b-85cc-4ea6-a1d5-2ea2d2dbcb7d",
   "metadata": {},
   "outputs": [
    {
     "data": {
      "text/plain": [
       "[12, 11, 10, 9, 8, 7, 6, 5, 4, 3, 2, 1]"
      ]
     },
     "execution_count": 40,
     "metadata": {},
     "output_type": "execute_result"
    }
   ],
   "source": [
    "[j for j in range(12, 0, -1)]"
   ]
  },
  {
   "cell_type": "code",
   "execution_count": 41,
   "id": "41638e03-5289-4c00-8b56-4151dd26dee3",
   "metadata": {},
   "outputs": [
    {
     "data": {
      "text/plain": [
       "1"
      ]
     },
     "execution_count": 41,
     "metadata": {},
     "output_type": "execute_result"
    }
   ],
   "source": [
    "num_char[ord(\"B\") - ord('A')]"
   ]
  },
  {
   "cell_type": "code",
   "execution_count": 42,
   "id": "c21e4c6a-9601-4710-b7e8-99c96b50e41f",
   "metadata": {},
   "outputs": [
    {
     "data": {
      "text/plain": [
       "66"
      ]
     },
     "execution_count": 42,
     "metadata": {},
     "output_type": "execute_result"
    }
   ],
   "source": [
    "ord(\"B\")"
   ]
  },
  {
   "cell_type": "code",
   "execution_count": 43,
   "id": "6c392261-50c4-47d5-bed3-c143422e95bb",
   "metadata": {},
   "outputs": [
    {
     "data": {
      "text/plain": [
       "65"
      ]
     },
     "execution_count": 43,
     "metadata": {},
     "output_type": "execute_result"
    }
   ],
   "source": [
    "ord(\"A\")"
   ]
  },
  {
   "cell_type": "code",
   "execution_count": 38,
   "id": "33fe824f-f6d2-485c-997e-9e5ca14eeb70",
   "metadata": {},
   "outputs": [
    {
     "data": {
      "text/plain": [
       "[0,\n",
       " 1,\n",
       " 2,\n",
       " 3,\n",
       " 4,\n",
       " 5,\n",
       " 6,\n",
       " 7,\n",
       " 8,\n",
       " 9,\n",
       " 10,\n",
       " 11,\n",
       " 12,\n",
       " 13,\n",
       " 12,\n",
       " 11,\n",
       " 10,\n",
       " 9,\n",
       " 8,\n",
       " 7,\n",
       " 6,\n",
       " 5,\n",
       " 4,\n",
       " 3,\n",
       " 2,\n",
       " 1]"
      ]
     },
     "execution_count": 38,
     "metadata": {},
     "output_type": "execute_result"
    }
   ],
   "source": [
    "num_char"
   ]
  },
  {
   "cell_type": "code",
   "execution_count": 1,
   "id": "a397d2fe-3079-4aef-a875-aa98504bfe1a",
   "metadata": {},
   "outputs": [],
   "source": [
    "prime_numbers = [2, 3, 5, 7, 9, 11]"
   ]
  },
  {
   "cell_type": "code",
   "execution_count": 2,
   "id": "9bfbf428-fde4-41fb-8c3c-a3f8098aa04e",
   "metadata": {},
   "outputs": [],
   "source": [
    "# remove 9 from the list\n",
    "prime_numbers.remove(9)"
   ]
  },
  {
   "cell_type": "code",
   "execution_count": 3,
   "id": "cc084e4d-bb19-4308-ab22-20984455840f",
   "metadata": {},
   "outputs": [
    {
     "data": {
      "text/plain": [
       "[2, 3, 5, 7, 11]"
      ]
     },
     "execution_count": 3,
     "metadata": {},
     "output_type": "execute_result"
    }
   ],
   "source": [
    "prime_numbers"
   ]
  },
  {
   "cell_type": "code",
   "execution_count": null,
   "id": "6d6692b3-e8a4-4fb2-88f8-71f1b31cfe33",
   "metadata": {},
   "outputs": [],
   "source": [
    "5\t[2, 4]\t[1, 3, 5]"
   ]
  },
  {
   "cell_type": "code",
   "execution_count": 48,
   "id": "e6909b37-952c-48d2-8762-ceb3b14a04e1",
   "metadata": {},
   "outputs": [],
   "source": [
    "n = 5\n",
    "lost = [2,3,4]\n",
    "reserve = [1,3,5]"
   ]
  },
  {
   "cell_type": "code",
   "execution_count": 49,
   "id": "db12c816-a004-45ea-81a1-8526e58e114e",
   "metadata": {},
   "outputs": [],
   "source": []
  },
  {
   "cell_type": "code",
   "execution_count": 50,
   "id": "d593093d-9d7c-4a85-893d-397be9a6d8ca",
   "metadata": {},
   "outputs": [],
   "source": [
    "lost2 = lost.copy()"
   ]
  },
  {
   "cell_type": "code",
   "execution_count": 51,
   "id": "142e2cff-f980-4956-b8f4-7c6978429f38",
   "metadata": {},
   "outputs": [
    {
     "data": {
      "text/plain": [
       "[2, 4]"
      ]
     },
     "execution_count": 51,
     "metadata": {},
     "output_type": "execute_result"
    }
   ],
   "source": [
    "lost2"
   ]
  },
  {
   "cell_type": "code",
   "execution_count": 52,
   "id": "ecdf5260-239b-4b0b-85c8-90632c56277a",
   "metadata": {},
   "outputs": [
    {
     "name": "stdout",
     "output_type": "stream",
     "text": [
      "2 [4]\n",
      "4 []\n"
     ]
    }
   ],
   "source": [
    "set1 = set(lost)\n",
    "set2 = set(reserve)\n",
    "\n",
    "lost = list(set1 - set2)\n",
    "#print(set1.difference(set2))\n",
    "\n",
    "lost2 = lost.copy()\n",
    "\n",
    "for l in lost:\n",
    "    if l-1 in reserve:\n",
    "        reserve.remove(l-1)\n",
    "        lost2.remove(l)\n",
    "        print(l,lost2)\n",
    "    elif l+1 in reserve:\n",
    "        reserve.remove(l+1)\n",
    "        lost2.remove(l)\n",
    "        print(l,lost2)\n",
    "    else:\n",
    "        pass"
   ]
  },
  {
   "cell_type": "code",
   "execution_count": 53,
   "id": "a84470fa-e2fc-4a71-add0-ea625e62e178",
   "metadata": {},
   "outputs": [
    {
     "data": {
      "text/plain": [
       "[]"
      ]
     },
     "execution_count": 53,
     "metadata": {},
     "output_type": "execute_result"
    }
   ],
   "source": [
    "lost2"
   ]
  },
  {
   "cell_type": "code",
   "execution_count": 1,
   "id": "ddfb3e99-224b-4985-8a61-207825a7012e",
   "metadata": {},
   "outputs": [],
   "source": [
    "def getMyDivisor(n):\n",
    "    divisorsList = []\n",
    "    for i in range(1, n + 1):\n",
    "        if (n % i == 0) :\n",
    "            divisorsList.append(i)\n",
    "    return divisorsList"
   ]
  },
  {
   "cell_type": "code",
   "execution_count": 9,
   "id": "b73cf127-6b56-4349-990f-dc0fdea7df9b",
   "metadata": {},
   "outputs": [],
   "source": [
    "\n",
    "def midvalue(lst):\n",
    "    return lst[len(lst) // 2]"
   ]
  },
  {
   "cell_type": "code",
   "execution_count": 18,
   "id": "7d59bf3d-d093-4571-8496-4afb3e8596c4",
   "metadata": {},
   "outputs": [],
   "source": [
    "\n",
    "def midvalue2(lst):\n",
    "    return [lst[len(lst) // 2],lst[len(lst) // 2-1]]"
   ]
  },
  {
   "cell_type": "code",
   "execution_count": 16,
   "id": "756d5b39-aa0a-4546-9a5c-c1bb68f2ef67",
   "metadata": {},
   "outputs": [
    {
     "data": {
      "text/plain": [
       "[1, 2, 4, 8]"
      ]
     },
     "execution_count": 16,
     "metadata": {},
     "output_type": "execute_result"
    }
   ],
   "source": [
    "getMyDivisor(8)"
   ]
  },
  {
   "cell_type": "code",
   "execution_count": 22,
   "id": "8248de9b-0fdb-4cdd-bfc1-a76d5f5fb24b",
   "metadata": {},
   "outputs": [],
   "source": [
    "w = 2"
   ]
  },
  {
   "cell_type": "code",
   "execution_count": 23,
   "id": "8dc4af11-a568-4375-973d-95b77fd62ebf",
   "metadata": {},
   "outputs": [],
   "source": [
    "h = w"
   ]
  },
  {
   "cell_type": "code",
   "execution_count": 24,
   "id": "e74649c7-7b34-4447-b1e3-0be2c3edeee0",
   "metadata": {},
   "outputs": [
    {
     "data": {
      "text/plain": [
       "2"
      ]
     },
     "execution_count": 24,
     "metadata": {},
     "output_type": "execute_result"
    }
   ],
   "source": [
    "w"
   ]
  },
  {
   "cell_type": "code",
   "execution_count": 25,
   "id": "d2d2d796-8009-41ed-accd-fd1e6ef2ec26",
   "metadata": {},
   "outputs": [
    {
     "data": {
      "text/plain": [
       "2"
      ]
     },
     "execution_count": 25,
     "metadata": {},
     "output_type": "execute_result"
    }
   ],
   "source": [
    "h"
   ]
  },
  {
   "cell_type": "code",
   "execution_count": 20,
   "id": "9a46de8d-b91f-447a-8364-823274f32cbe",
   "metadata": {},
   "outputs": [
    {
     "data": {
      "text/plain": [
       "[4, 3]"
      ]
     },
     "execution_count": 20,
     "metadata": {},
     "output_type": "execute_result"
    }
   ],
   "source": [
    "midvalue2(getMyDivisor(12))"
   ]
  },
  {
   "cell_type": "code",
   "execution_count": null,
   "id": "ed53e30a-42a9-4a95-a996-31e183f047a8",
   "metadata": {},
   "outputs": [],
   "source": []
  },
  {
   "cell_type": "code",
   "execution_count": 8,
   "id": "ea02c0e4-3740-44f1-a024-f27dc02f6fd5",
   "metadata": {},
   "outputs": [
    {
     "data": {
      "text/plain": [
       "3"
      ]
     },
     "execution_count": 8,
     "metadata": {},
     "output_type": "execute_result"
    }
   ],
   "source": [
    "midvalue(getMyDivisor(9))"
   ]
  },
  {
   "cell_type": "code",
   "execution_count": 17,
   "id": "38156224-ce03-4b5c-9e5b-3f78e59d3451",
   "metadata": {},
   "outputs": [],
   "source": [
    "names = ['김상호','김경식','정택민','김형진']\n",
    "level = ['팀장','과장','대리']"
   ]
  },
  {
   "cell_type": "code",
   "execution_count": 20,
   "id": "08b6d55c-fce2-4983-9025-bcc791370140",
   "metadata": {},
   "outputs": [
    {
     "name": "stdout",
     "output_type": "stream",
     "text": [
      "김상호: 팀장\n",
      "김경식: 과장\n",
      "정택민: 대리\n",
      "김형진: None\n"
     ]
    }
   ],
   "source": [
    "for name, level in itertools.zip_longest(names,level):\n",
    "    print(f'{name}: {level}')"
   ]
  },
  {
   "cell_type": "code",
   "execution_count": 21,
   "id": "19e38622-bcf6-498d-9d5c-328de029cc7c",
   "metadata": {},
   "outputs": [],
   "source": [
    "names = ['김상호','김경식','정택민']\n",
    "level = ['팀장','과장','대리']"
   ]
  },
  {
   "cell_type": "code",
   "execution_count": 22,
   "id": "dd191514-0721-42a4-838b-8f2be4cdbfcd",
   "metadata": {},
   "outputs": [
    {
     "name": "stdout",
     "output_type": "stream",
     "text": [
      "김상호: 팀장\n",
      "김경식: 과장\n",
      "정택민: 대리\n"
     ]
    }
   ],
   "source": [
    "for name, level in zip(names,level):\n",
    "    print(f'{name}: {level}')"
   ]
  },
  {
   "cell_type": "code",
   "execution_count": 23,
   "id": "d0990b04-c5fb-4c48-bcc3-2f9ba94c6c1d",
   "metadata": {},
   "outputs": [],
   "source": [
    "a = ['a','b','c','d','e','f','g','h']"
   ]
  },
  {
   "cell_type": "code",
   "execution_count": 39,
   "id": "f6c3995c-6764-4d53-b3ba-d676bf48ddf9",
   "metadata": {
    "tags": []
   },
   "outputs": [
    {
     "name": "stdout",
     "output_type": "stream",
     "text": [
      "a[1::2] : ['b', 'd', 'f', 'h']\n",
      "a[1:8:2] : ['b', 'd', 'f']\n"
     ]
    }
   ],
   "source": [
    "print(f'{\"a[1::2]\"} : {a[1::2]}')\n",
    "print(f'{\"a[1:8:2]\"} : {a[1:6:2]}')"
   ]
  },
  {
   "cell_type": "code",
   "execution_count": null,
   "id": "fe5c72c7-f7aa-469b-974d-3dd04280f681",
   "metadata": {},
   "outputs": [],
   "source": []
  }
 ],
 "metadata": {
  "kernelspec": {
   "display_name": "Python 3 (ipykernel)",
   "language": "python",
   "name": "python3"
  },
  "language_info": {
   "codemirror_mode": {
    "name": "ipython",
    "version": 3
   },
   "file_extension": ".py",
   "mimetype": "text/x-python",
   "name": "python",
   "nbconvert_exporter": "python",
   "pygments_lexer": "ipython3",
   "version": "3.9.7"
  }
 },
 "nbformat": 4,
 "nbformat_minor": 5
}
